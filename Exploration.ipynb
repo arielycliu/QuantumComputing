{
 "cells": [
  {
   "cell_type": "code",
   "execution_count": 1,
   "id": "778dbca9",
   "metadata": {},
   "outputs": [],
   "source": [
    "import qiskit\n",
    "from qiskit import QuantumCircuit"
   ]
  },
  {
   "cell_type": "code",
   "execution_count": 7,
   "id": "1364ae1f",
   "metadata": {},
   "outputs": [
    {
     "data": {
      "text/html": [
       "<pre style=\"word-wrap: normal;white-space: pre;background: #fff0;line-height: 1.1;font-family: &quot;Courier New&quot;,Courier,monospace\">     ┌─┐      \n",
       "q_0: ┤M├──────\n",
       "     └╥┘┌─┐   \n",
       "q_1: ─╫─┤M├───\n",
       "      ║ └╥┘┌─┐\n",
       "q_2: ─╫──╫─┤M├\n",
       "      ║  ║ └╥┘\n",
       "c: 3/═╩══╩══╩═\n",
       "      0  1  2 </pre>"
      ],
      "text/plain": [
       "     ┌─┐      \n",
       "q_0: ┤M├──────\n",
       "     └╥┘┌─┐   \n",
       "q_1: ─╫─┤M├───\n",
       "      ║ └╥┘┌─┐\n",
       "q_2: ─╫──╫─┤M├\n",
       "      ║  ║ └╥┘\n",
       "c: 3/═╩══╩══╩═\n",
       "      0  1  2 "
      ]
     },
     "execution_count": 7,
     "metadata": {},
     "output_type": "execute_result"
    }
   ],
   "source": [
    "qc = QuantumCircuit(3, 3)\n",
    "qc.measure([0, 1, 2], [0, 1, 2]) # measure the qubits/record results\n",
    "qc.draw()"
   ]
  },
  {
   "cell_type": "code",
   "execution_count": 10,
   "id": "3b2b2dcc",
   "metadata": {},
   "outputs": [],
   "source": [
    "from qiskit.providers.aer import AerSimulator\n",
    "def run():\n",
    "    sim = AerSimulator()\n",
    "    job = sim.run(qc)\n",
    "    result = job.result()\n",
    "     # return dict of results\n",
    "    print(result.get_counts())"
   ]
  },
  {
   "cell_type": "code",
   "execution_count": 11,
   "id": "fe21ee99",
   "metadata": {},
   "outputs": [
    {
     "name": "stdout",
     "output_type": "stream",
     "text": [
      "{'000': 1024}\n"
     ]
    }
   ],
   "source": [
    "run()"
   ]
  },
  {
   "cell_type": "code",
   "execution_count": 18,
   "id": "355b1efd",
   "metadata": {},
   "outputs": [
    {
     "data": {
      "text/html": [
       "<pre style=\"word-wrap: normal;white-space: pre;background: #fff0;line-height: 1.1;font-family: &quot;Courier New&quot;,Courier,monospace\">          ┌─┐      \n",
       "q_0: ─────┤M├──────\n",
       "     ┌───┐└╥┘┌─┐   \n",
       "q_1: ┤ X ├─╫─┤M├───\n",
       "     ├───┤ ║ └╥┘┌─┐\n",
       "q_2: ┤ X ├─╫──╫─┤M├\n",
       "     └───┘ ║  ║ └╥┘\n",
       "c: 3/══════╩══╩══╩═\n",
       "           0  1  2 </pre>"
      ],
      "text/plain": [
       "          ┌─┐      \n",
       "q_0: ─────┤M├──────\n",
       "     ┌───┐└╥┘┌─┐   \n",
       "q_1: ┤ X ├─╫─┤M├───\n",
       "     ├───┤ ║ └╥┘┌─┐\n",
       "q_2: ┤ X ├─╫──╫─┤M├\n",
       "     └───┘ ║  ║ └╥┘\n",
       "c: 3/══════╩══╩══╩═\n",
       "           0  1  2 "
      ]
     },
     "execution_count": 18,
     "metadata": {},
     "output_type": "execute_result"
    }
   ],
   "source": [
    "qc = QuantumCircuit(3, 3)\n",
    "qc.x([1, 2])\n",
    "qc.measure([0, 1, 2], [0, 1, 2]) # measure the qubits/record results\n",
    "qc.draw()"
   ]
  },
  {
   "cell_type": "code",
   "execution_count": 19,
   "id": "bbc564d0",
   "metadata": {},
   "outputs": [
    {
     "name": "stdout",
     "output_type": "stream",
     "text": [
      "{'110': 1024}\n"
     ]
    }
   ],
   "source": [
    "run()"
   ]
  },
  {
   "cell_type": "code",
   "execution_count": null,
   "id": "f9b2b481",
   "metadata": {},
   "outputs": [],
   "source": []
  },
  {
   "cell_type": "code",
   "execution_count": null,
   "id": "1ada201e",
   "metadata": {},
   "outputs": [],
   "source": []
  },
  {
   "cell_type": "code",
   "execution_count": null,
   "id": "41a57f86",
   "metadata": {},
   "outputs": [],
   "source": []
  },
  {
   "cell_type": "code",
   "execution_count": null,
   "id": "de253a3b",
   "metadata": {},
   "outputs": [],
   "source": []
  }
 ],
 "metadata": {
  "kernelspec": {
   "display_name": "Python 3",
   "language": "python",
   "name": "python3"
  },
  "language_info": {
   "codemirror_mode": {
    "name": "ipython",
    "version": 3
   },
   "file_extension": ".py",
   "mimetype": "text/x-python",
   "name": "python",
   "nbconvert_exporter": "python",
   "pygments_lexer": "ipython3",
   "version": "3.8.8"
  }
 },
 "nbformat": 4,
 "nbformat_minor": 5
}
