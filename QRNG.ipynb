{
 "cells": [
  {
   "cell_type": "code",
   "execution_count": 10,
   "id": "05caef88",
   "metadata": {},
   "outputs": [
    {
     "data": {
      "text/html": [
       "<pre style=\"word-wrap: normal;white-space: pre;background: #fff0;line-height: 1.1;font-family: &quot;Courier New&quot;,Courier,monospace\">     ┌───┐\n",
       "q_0: ┤ H ├\n",
       "     ├───┤\n",
       "q_1: ┤ H ├\n",
       "     ├───┤\n",
       "q_2: ┤ H ├\n",
       "     ├───┤\n",
       "q_3: ┤ H ├\n",
       "     ├───┤\n",
       "q_4: ┤ H ├\n",
       "     └───┘\n",
       "c: 5/═════\n",
       "          </pre>"
      ],
      "text/plain": [
       "     ┌───┐\n",
       "q_0: ┤ H ├\n",
       "     ├───┤\n",
       "q_1: ┤ H ├\n",
       "     ├───┤\n",
       "q_2: ┤ H ├\n",
       "     ├───┤\n",
       "q_3: ┤ H ├\n",
       "     ├───┤\n",
       "q_4: ┤ H ├\n",
       "     └───┘\n",
       "c: 5/═════\n",
       "          "
      ]
     },
     "execution_count": 10,
     "metadata": {},
     "output_type": "execute_result"
    }
   ],
   "source": [
    "from qiskit import QuantumCircuit\n",
    "qc = QuantumCircuit(5, 5)\n",
    "qc.h([0, 1, 2, 3, 4])\n",
    "qc.draw()"
   ]
  },
  {
   "cell_type": "code",
   "execution_count": 11,
   "id": "5053220e",
   "metadata": {},
   "outputs": [
    {
     "data": {
      "text/html": [
       "<pre style=\"word-wrap: normal;white-space: pre;background: #fff0;line-height: 1.1;font-family: &quot;Courier New&quot;,Courier,monospace\">     ┌───┐┌─┐            \n",
       "q_0: ┤ H ├┤M├────────────\n",
       "     ├───┤└╥┘┌─┐         \n",
       "q_1: ┤ H ├─╫─┤M├─────────\n",
       "     ├───┤ ║ └╥┘┌─┐      \n",
       "q_2: ┤ H ├─╫──╫─┤M├──────\n",
       "     ├───┤ ║  ║ └╥┘┌─┐   \n",
       "q_3: ┤ H ├─╫──╫──╫─┤M├───\n",
       "     ├───┤ ║  ║  ║ └╥┘┌─┐\n",
       "q_4: ┤ H ├─╫──╫──╫──╫─┤M├\n",
       "     └───┘ ║  ║  ║  ║ └╥┘\n",
       "c: 5/══════╩══╩══╩══╩══╩═\n",
       "           0  1  2  3  4 </pre>"
      ],
      "text/plain": [
       "     ┌───┐┌─┐            \n",
       "q_0: ┤ H ├┤M├────────────\n",
       "     ├───┤└╥┘┌─┐         \n",
       "q_1: ┤ H ├─╫─┤M├─────────\n",
       "     ├───┤ ║ └╥┘┌─┐      \n",
       "q_2: ┤ H ├─╫──╫─┤M├──────\n",
       "     ├───┤ ║  ║ └╥┘┌─┐   \n",
       "q_3: ┤ H ├─╫──╫──╫─┤M├───\n",
       "     ├───┤ ║  ║  ║ └╥┘┌─┐\n",
       "q_4: ┤ H ├─╫──╫──╫──╫─┤M├\n",
       "     └───┘ ║  ║  ║  ║ └╥┘\n",
       "c: 5/══════╩══╩══╩══╩══╩═\n",
       "           0  1  2  3  4 "
      ]
     },
     "execution_count": 11,
     "metadata": {},
     "output_type": "execute_result"
    }
   ],
   "source": [
    "qc.measure([0,1,2,3,4], [0,1,2,3,4])\n",
    "qc.draw()"
   ]
  },
  {
   "cell_type": "code",
   "execution_count": 12,
   "id": "152554fd",
   "metadata": {},
   "outputs": [],
   "source": [
    "from qiskit.providers.aer import AerSimulator\n",
    "sim = AerSimulator()  "
   ]
  },
  {
   "cell_type": "code",
   "execution_count": 13,
   "id": "95f1e2a1",
   "metadata": {},
   "outputs": [
    {
     "data": {
      "text/plain": [
       "{'10010': 32,\n",
       " '00011': 34,\n",
       " '11101': 36,\n",
       " '10110': 27,\n",
       " '10111': 27,\n",
       " '01011': 44,\n",
       " '01001': 28,\n",
       " '00000': 39,\n",
       " '00101': 32,\n",
       " '10100': 31,\n",
       " '01100': 31,\n",
       " '11010': 23,\n",
       " '01101': 30,\n",
       " '01000': 41,\n",
       " '10000': 40,\n",
       " '11111': 32,\n",
       " '01010': 29,\n",
       " '01111': 23,\n",
       " '00111': 43,\n",
       " '11011': 25,\n",
       " '11100': 37,\n",
       " '11000': 27,\n",
       " '11110': 25,\n",
       " '00110': 36,\n",
       " '00010': 35,\n",
       " '01110': 25,\n",
       " '11001': 25,\n",
       " '00100': 33,\n",
       " '10101': 36,\n",
       " '10001': 24,\n",
       " '10011': 36,\n",
       " '00001': 38}"
      ]
     },
     "execution_count": 13,
     "metadata": {},
     "output_type": "execute_result"
    }
   ],
   "source": [
    "job = sim.run(qc)      #run experiment\n",
    "result = job.result()  #get results\n",
    "result.get_counts()    #return count dictionary"
   ]
  },
  {
   "cell_type": "code",
   "execution_count": null,
   "id": "c00cedb2",
   "metadata": {},
   "outputs": [],
   "source": []
  }
 ],
 "metadata": {
  "kernelspec": {
   "display_name": "Python 3",
   "language": "python",
   "name": "python3"
  },
  "language_info": {
   "codemirror_mode": {
    "name": "ipython",
    "version": 3
   },
   "file_extension": ".py",
   "mimetype": "text/x-python",
   "name": "python",
   "nbconvert_exporter": "python",
   "pygments_lexer": "ipython3",
   "version": "3.8.8"
  }
 },
 "nbformat": 4,
 "nbformat_minor": 5
}
